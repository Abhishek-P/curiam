{
 "cells": [
  {
   "cell_type": "code",
   "execution_count": 1,
   "metadata": {},
   "outputs": [
    {
     "name": "stdout",
     "output_type": "stream",
     "text": [
      "/home/mkranzlein/michael/dev/curiam\n"
     ]
    }
   ],
   "source": [
    "# Allows for seamless use of updated src\n",
    "\n",
    "%load_ext autoreload\n",
    "%autoreload 2\n",
    "\n",
    "# Switch to top of curiam directory for easier paths\n",
    "%cd ../../"
   ]
  },
  {
   "cell_type": "code",
   "execution_count": 2,
   "metadata": {},
   "outputs": [],
   "source": [
    "from pathlib import Path"
   ]
  },
  {
   "cell_type": "code",
   "execution_count": 21,
   "metadata": {},
   "outputs": [],
   "source": [
    "# These files contain a single line like:\n",
    "# {'precision': 0.8017524644030668}, {'recall': 0.7746031746031746}, {'f1': 0.7879440258342304}\n",
    "\n",
    "bert_stats_by_category = {}\n",
    "legal_bert_stats_by_category = {}\n",
    "# This whole thing is awful\n",
    "for results_file in Path(\"results/model_runs\").iterdir():\n",
    "    filename = results_file.name\n",
    "    if not filename.startswith(\"legalbertconfig\"):\n",
    "        category, iteration, model = [val for val in filename.split('_')]\n",
    "        with results_file.open(\"r\") as f:\n",
    "            stats = f.read().split(\",\")\n",
    "            p = float(stats[0].split(\":\")[1].strip()[:-1])\n",
    "            r = float(stats[1].split(\":\")[1].strip()[:-1])\n",
    "            f1 = float(stats[2].split(\":\")[1].strip()[:-1])\n",
    "            if model ==\"bert\":\n",
    "                bert_stats_by_category.setdefault(category, {\"precisions\": [], \"recalls\": [], \"f1s\": []})\n",
    "                bert_stats_by_category[category][\"precisions\"].append(p)\n",
    "                bert_stats_by_category[category][\"recalls\"].append(r)\n",
    "                bert_stats_by_category[category][\"f1s\"].append(f1)\n",
    "            else:\n",
    "                legal_bert_stats_by_category.setdefault(category, {\"precisions\": [], \"recalls\": [], \"f1s\": []})\n",
    "                legal_bert_stats_by_category[category][\"precisions\"].append(p)\n",
    "                legal_bert_stats_by_category[category][\"recalls\"].append(r)\n",
    "                legal_bert_stats_by_category[category][\"f1s\"].append(f1)"
   ]
  },
  {
   "cell_type": "code",
   "execution_count": 18,
   "metadata": {},
   "outputs": [],
   "source": [
    "import statistics"
   ]
  },
  {
   "cell_type": "code",
   "execution_count": 24,
   "metadata": {},
   "outputs": [
    {
     "name": "stdout",
     "output_type": "stream",
     "text": [
      "0.907 & 0.899 & 0.902 & 0.879 & 0.928 & 0.903 & 0.973 & 0.962 & 0.967 & 0.989 & 0.983 & 0.986 & \n"
     ]
    }
   ],
   "source": [
    "output_str = \"\"\n",
    "for category in [\"Focal Term\", \"Metalinguistic Cue\", \"Direct Quote\", \"Legal Source\"]:\n",
    "    stats = bert_stats_by_category[category]\n",
    "    average_p = statistics.mean(stats[\"precisions\"])\n",
    "    average_r = statistics.mean(stats[\"recalls\"])\n",
    "    average_f1 = statistics.mean(stats[\"f1s\"])\n",
    "    output_str += f\"{average_p:.3f} & {average_r:.3f} & {average_f1:.3f} & \"\n",
    "print(output_str)"
   ]
  },
  {
   "cell_type": "code",
   "execution_count": 25,
   "metadata": {},
   "outputs": [
    {
     "name": "stdout",
     "output_type": "stream",
     "text": [
      "0.546 & 0.666 & 0.594 & 0.745 & 0.768 & 0.755 & 0.972 & 0.949 & 0.960 & 0.974 & 0.949 & 0.961 & \n"
     ]
    }
   ],
   "source": [
    "output_str = \"\"\n",
    "for category in [\"Focal Term\", \"Metalinguistic Cue\", \"Direct Quote\", \"Legal Source\"]:\n",
    "    stats = legal_bert_stats_by_category[category]\n",
    "    average_p = statistics.mean(stats[\"precisions\"])\n",
    "    average_r = statistics.mean(stats[\"recalls\"])\n",
    "    average_f1 = statistics.mean(stats[\"f1s\"])\n",
    "    output_str += f\"{average_p:.3f} & {average_r:.3f} & {average_f1:.3f} & \"\n",
    "print(output_str)"
   ]
  },
  {
   "cell_type": "code",
   "execution_count": 32,
   "metadata": {},
   "outputs": [
    {
     "data": {
      "text/plain": [
       "'0.669 & 0.756 & 0.709 & 0.766 & 0.794 & 0.779 & '"
      ]
     },
     "execution_count": 32,
     "metadata": {},
     "output_type": "execute_result"
    }
   ],
   "source": [
    "legal_bert_stats_by_category = {}\n",
    "# This whole thing is awful\n",
    "for results_file in Path(\"results/model_runs\").glob(\"early_stopping*\"):\n",
    "    filename = results_file.name\n",
    "    _,_,_, category, iteration, model = [val for val in filename.split('_')]\n",
    "    with results_file.open(\"r\") as f:\n",
    "        stats = f.read().split(\",\")\n",
    "        p = float(stats[0].split(\":\")[1].strip()[:-1])\n",
    "        r = float(stats[1].split(\":\")[1].strip()[:-1])\n",
    "        f1 = float(stats[2].split(\":\")[1].strip()[:-1])\n",
    "        legal_bert_stats_by_category.setdefault(category, {\"precisions\": [], \"recalls\": [], \"f1s\": []})\n",
    "        legal_bert_stats_by_category[category][\"precisions\"].append(p)\n",
    "        legal_bert_stats_by_category[category][\"recalls\"].append(r)\n",
    "        legal_bert_stats_by_category[category][\"f1s\"].append(f1)\n",
    "output_str = \"\"    \n",
    "for category in [\"Focal Term\", \"Metalinguistic Cue\"]:\n",
    "    stats = legal_bert_stats_by_category[category]\n",
    "    average_p = statistics.mean(stats[\"precisions\"])\n",
    "    average_r = statistics.mean(stats[\"recalls\"])\n",
    "    average_f1 = statistics.mean(stats[\"f1s\"])\n",
    "    output_str += f\"{average_p:.3f} & {average_r:.3f} & {average_f1:.3f} & \"\n",
    "output_str"
   ]
  }
 ],
 "metadata": {
  "kernelspec": {
   "display_name": "curiam",
   "language": "python",
   "name": "python3"
  },
  "language_info": {
   "codemirror_mode": {
    "name": "ipython",
    "version": 3
   },
   "file_extension": ".py",
   "mimetype": "text/x-python",
   "name": "python",
   "nbconvert_exporter": "python",
   "pygments_lexer": "ipython3",
   "version": "3.9.16"
  },
  "orig_nbformat": 4
 },
 "nbformat": 4,
 "nbformat_minor": 2
}
