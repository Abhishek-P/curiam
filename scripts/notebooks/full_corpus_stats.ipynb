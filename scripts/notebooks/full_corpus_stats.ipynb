{
 "cells": [
  {
   "attachments": {},
   "cell_type": "markdown",
   "metadata": {},
   "source": [
    "### How many tokens are there?\n",
    "\n",
    "### How many spans were annotated (including overlaps)?\n",
    "\n",
    "### What percentage of the tokens were part of a metalanguage span (no overlaps)\n",
    "\n",
    "### How many opinions were annotated?"
   ]
  }
 ],
 "metadata": {
  "language_info": {
   "name": "python"
  },
  "orig_nbformat": 4
 },
 "nbformat": 4,
 "nbformat_minor": 2
}
