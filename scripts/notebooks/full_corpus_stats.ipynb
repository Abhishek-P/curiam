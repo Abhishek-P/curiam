{
 "cells": [
  {
   "attachments": {},
   "cell_type": "markdown",
   "metadata": {},
   "source": [
    "# Corpus Stats"
   ]
  },
  {
   "cell_type": "code",
   "execution_count": 3,
   "metadata": {},
   "outputs": [
    {
     "name": "stdout",
     "output_type": "stream",
     "text": [
      "/home/mkranzlein/michael/dev/curiam\n"
     ]
    }
   ],
   "source": [
    "%cd ../../"
   ]
  },
  {
   "cell_type": "code",
   "execution_count": null,
   "metadata": {},
   "outputs": [],
   "source": [
    "import os\n",
    "from collections import Counter"
   ]
  },
  {
   "attachments": {},
   "cell_type": "markdown",
   "metadata": {},
   "source": [
    "### Table showing total number of opinions and number of majority, concurring, and dissenting opinions"
   ]
  },
  {
   "cell_type": "code",
   "execution_count": 8,
   "metadata": {},
   "outputs": [
    {
     "name": "stdout",
     "output_type": "stream",
     "text": [
      "Alito & 3 & 2 & 3 & 8\\\\\n",
      "Breyer & 1 & 1 & 0 & 2\\\\\n",
      "Ginsburg & 2 & 1 & 1 & 4\\\\\n",
      "Gorsuch & 3 & 1 & 1 & 5\\\\\n",
      "Kagan & 2 & 0 & 0 & 2\\\\\n",
      "Kavanaugh & 2 & 2 & 1 & 5\\\\\n",
      "Roberts & 1 & 0 & 0 & 1\\\\\n",
      "Sotomayor & 2 & 3 & 2 & 7\\\\\n",
      "Thomas & 2 & 1 & 4 & 7\\\\ \\midrule\n",
      "& 18 & 11 & 12 & 41\\\\\n"
     ]
    }
   ],
   "source": [
    "opinion_counts = {}\n",
    "for filename in os.listdir(\"data/full_scale/processed/inception_files_with_docket_numbers\"):\n",
    "    docket_subpart_1, docket_subpart_2, opinion_type, author = filename.split(\"_\")\n",
    "    # Format authors for table\n",
    "    author = author[:-4]\n",
    "    author = author[0].upper() + author[1:]\n",
    "    if author not in opinion_counts.keys():\n",
    "        opinion_counts[author] = Counter()\n",
    "    opinion_counts[author][opinion_type] += 1\n",
    "\n",
    "authors = sorted(opinion_counts.keys())\n",
    "total = 0\n",
    "majority_total = 0\n",
    "concurrence_total = 0\n",
    "dissent_total = 0\n",
    "table_output = \"\"\n",
    "for author in authors:\n",
    "    # Calculate row sums and increment column totals\n",
    "    majority = opinion_counts[author][\"ootc\"]\n",
    "    majority_total += majority\n",
    "    concurrence = opinion_counts[author][\"concurrence\"]\n",
    "    concurrence_total += concurrence\n",
    "    dissent = opinion_counts[author][\"dissent\"]\n",
    "    dissent_total += dissent\n",
    "    # Total for this particular justice\n",
    "    justice_total = (majority + concurrence + dissent)\n",
    "    total += justice_total\n",
    "    table_output += f\"{author} & {majority} & {concurrence} & {dissent} & {justice_total}\\\\\\\\\\n\"\n",
    "# Remove newline from second-to-last row so midrule can be added\n",
    "table_output = table_output[:-1]\n",
    "table_output += f\" \\\\midrule\\n\" + f\"& {majority_total} & {concurrence_total} & {dissent_total} & {total}\\\\\\\\\"\n",
    "with open(\"results/tables/opinion_characterisitcs.txt\", \"w\") as f:\n",
    "    f.write(table_output)\n",
    "print(table_output)"
   ]
  },
  {
   "attachments": {},
   "cell_type": "markdown",
   "metadata": {},
   "source": [
    "### How many tokens are there?\n",
    "\n",
    "### How many spans were annotated (including overlaps)?\n",
    "\n",
    "### What percentage of the tokens were part of a metalanguage span (no overlaps)\n",
    "\n"
   ]
  }
 ],
 "metadata": {
  "kernelspec": {
   "display_name": "curiam",
   "language": "python",
   "name": "python3"
  },
  "language_info": {
   "codemirror_mode": {
    "name": "ipython",
    "version": 3
   },
   "file_extension": ".py",
   "mimetype": "text/x-python",
   "name": "python",
   "nbconvert_exporter": "python",
   "pygments_lexer": "ipython3",
   "version": "3.10.9"
  },
  "orig_nbformat": 4
 },
 "nbformat": 4,
 "nbformat_minor": 2
}
