{
 "cells": [
  {
   "attachments": {},
   "cell_type": "markdown",
   "metadata": {},
   "source": [
    "# Corpus Stats"
   ]
  },
  {
   "cell_type": "code",
   "execution_count": 1,
   "metadata": {},
   "outputs": [
    {
     "name": "stdout",
     "output_type": "stream",
     "text": [
      "/Users/michael/dev/curiam\n"
     ]
    }
   ],
   "source": [
    "# Allows for seamless use of updated src\n",
    "\n",
    "%load_ext autoreload\n",
    "%autoreload 2\n",
    "\n",
    "# Switch to top of curiam directory for easier paths\n",
    "%cd ../..\n"
   ]
  },
  {
   "cell_type": "code",
   "execution_count": 2,
   "metadata": {},
   "outputs": [],
   "source": [
    "import statistics\n",
    "\n",
    "from collections import Counter\n",
    "from pathlib import Path\n",
    "\n",
    "from curiam import categories\n",
    "from curiam.preprocessing import inception_tsv\n",
    "\n",
    "from matplotlib import pyplot as plt"
   ]
  },
  {
   "attachments": {},
   "cell_type": "markdown",
   "metadata": {},
   "source": [
    "## Data stats"
   ]
  },
  {
   "attachments": {},
   "cell_type": "markdown",
   "metadata": {},
   "source": [
    "### Table: total number of opinions and number of majority, concurring, and dissenting opinions"
   ]
  },
  {
   "cell_type": "code",
   "execution_count": 3,
   "metadata": {},
   "outputs": [
    {
     "name": "stdout",
     "output_type": "stream",
     "text": [
      "Table saved to results/tables/opinion_characteristics.txt\n"
     ]
    }
   ],
   "source": [
    "opinion_counts = {}\n",
    "\n",
    "# These are plain text files that whose names have been standarized.\n",
    "# TODO: Fix filenames in INCEpTION so exported filenames can be used directly\n",
    "opinions_with_docket_numbers_dir = Path(\n",
    "    \"data/main/processed/inception_files_with_docket_numbers/\")\n",
    "\n",
    "for opinion_path in opinions_with_docket_numbers_dir.glob(\"*.txt\"):\n",
    "    # First 2 pieces make up docket number (e.g. 17_834), which we don't need\n",
    "    _, _, opinion_type, author = opinion_path.name.split(\"_\")\n",
    "    # Reformat authors for displaying in table\n",
    "    author = author[:-4]\n",
    "    author = author[0].upper() + author[1:]\n",
    "    if author not in opinion_counts.keys():\n",
    "        opinion_counts[author] = Counter()\n",
    "    opinion_counts[author][opinion_type] += 1\n",
    "\n",
    "authors = sorted(opinion_counts.keys())\n",
    "total = 0\n",
    "majority_total = 0\n",
    "concurrence_total = 0\n",
    "dissent_total = 0\n",
    "table_output = \"\"\n",
    "for author in authors:\n",
    "    # Calculate row sums and increment column totals\n",
    "    majority = opinion_counts[author][\"ootc\"]\n",
    "    majority_total += majority\n",
    "    concurrence = opinion_counts[author][\"concurrence\"]\n",
    "    concurrence_total += concurrence\n",
    "    dissent = opinion_counts[author][\"dissent\"]\n",
    "    dissent_total += dissent\n",
    "    # Total for this particular justice\n",
    "    justice_total = (majority + concurrence + dissent)\n",
    "    total += justice_total\n",
    "    table_output += f\"{author} & {majority} & {concurrence} & {dissent} & {justice_total}\\\\\\\\\\n\"\n",
    "table_output += \"\\\\bottomrule\\n\"\n",
    "table_output += f\"& {majority_total} & {concurrence_total} & {dissent_total} & {total}\\\\\\\\\"\n",
    "output_path = Path(\"results/tables/opinion_characteristics.txt\")\n",
    "with output_path.open(\"w\") as f:\n",
    "    f.write(table_output)\n",
    "print(f\"Table saved to {output_path.as_posix()}\")"
   ]
  },
  {
   "cell_type": "code",
   "execution_count": 4,
   "metadata": {},
   "outputs": [
    {
     "name": "stdout",
     "output_type": "stream",
     "text": [
      "Warning: token 'accord' has label * and note: Guidelines: this should not be annotated\\; it's a term of art\n",
      "Warning: token 'rule' has label *[239] and note: Don't remember decision on rule of lenity[239]\n",
      "Warning: token 'of' has label *[239] and note: Don't remember decision on rule of lenity[239]\n",
      "Warning: token 'lenity' has label *[239] and note: Don't remember decision on rule of lenity[239]\n"
     ]
    }
   ],
   "source": [
    "opinions_dir = Path(\"data/main/annotated\")\n",
    "opinions = [inception_tsv.process_opinion_file(opinion_path, annotator=\"Michael\")\n",
    "            for opinion_path in sorted(opinions_dir.glob(\"*.tsv\"), key= lambda path: path.name)]\n",
    "\n",
    "assert len(opinions) == 41"
   ]
  },
  {
   "cell_type": "code",
   "execution_count": 5,
   "metadata": {},
   "outputs": [
    {
     "name": "stdout",
     "output_type": "stream",
     "text": [
      "['See', ',', 'e.g.', ',', 'Complaint', 'in', 'Hecox', ',', 'No', '.', '1', ':', '20', '-', 'CV-00184', '(', 'state', 'law', 'prohibiting', 'transgender', 'students', 'from', 'competing', 'in', 'school', 'sports', 'in', 'accordance', 'with', 'their', 'gender', 'identity', ')', ';', 'Second', 'Amended', 'Complaint', 'in', 'Karnoski', 'v.', 'Trump', ',', 'No', '.', '2:17', '-', 'cv-01297', '(', 'WD', 'Wash.', ',', 'July', '31', ',', '2019', ')', '(', 'military', \"'s\", 'ban', 'on', 'transgender', 'members', ')', ';', 'Kadel', 'v.', 'Folwell', ',', '----', 'F.', 'Supp', '.', '3d', '----', ',', '----', '-', '----', ',', '2020', 'WL', '1169271', ',', '*', '10-*11', '(', 'MDNC', ',', 'Mar.', '11', ',', '2020', ')', '(', 'state', 'health', 'plan', \"'s\", 'exclusion', 'of', 'coverage', 'for', 'sex', 'reassignment', 'procedures', ')', ';', 'Complaint', 'in', 'Gore', 'v.', 'Lee', ',', 'No', '.', '3:19', '-', 'cv-00328', '(', 'MD', 'Tenn.', ',', 'Mar.', '3', ',', '2020', ')', '(', 'change', 'of', 'gender', 'on', 'birth', 'certificates', ')', ';', 'Brief', 'for', 'Appellee', 'in', 'Grimm', 'v.', 'Gloucester', 'Cty', '.', 'School', 'Bd', '.', ',', 'No', '.', '19', '-', '1952', '(', 'CA4', ',', 'Nov.', '18', ',', '2019', ')', '(', 'transgender', 'student', 'forced', 'to', 'use', 'gender', 'neutral', 'bathrooms', 'at', 'school', ')', ';', 'Complaint', 'in', 'Corbitt', 'v.', 'Taylor', ',', 'No', '.', '2:18', '-', 'cv-00091', '(', 'MD', 'Ala.', ',', 'July', '25', ',', '2018', ')', '(', 'change', 'of', 'gender', 'on', 'driver', \"'s\", 'licenses', ')', ';', 'Whitaker', ',', '858', 'F.3d', 'at', '1054', '(', 'school', 'policy', 'requiring', 'students', 'to', 'use', 'the', 'bathroom', 'that', 'corresponds', 'to', 'the', 'sex', 'on', 'birth', 'certificate', ')', ';', 'Keohane', 'v.', 'Florida', 'Dept', '.', 'of', 'Corrections', 'Secretary', ',', '952', 'F.3d', '1257', ',', '1262', '-', '1265', '(', 'CA11', '2020', ')', '(', 'transgender', 'prisoner', 'denied', 'hormone', 'therapy', 'and', 'ability', 'to', 'dress', 'and', 'groom', 'as', 'a', 'female', ')', ';', 'Edmo', 'v.', 'Corizon', ',', 'Inc.', ',', '935', 'F.3d', '757', ',', '767', '(', 'CA9', '2019', ')', '(', 'transgender', 'prisoner', 'requested', 'sex', 'reassignment', 'surgery', ')', ';', 'cf', '.', 'Glenn', 'v.', 'Brumby', ',', '663', 'F.3d', '1312', ',', '1320', '(', 'CA11', '2011', ')', '(', 'transgender', 'individual', 'fired', 'for', 'gender', 'non', '-', 'conformity', ')', '.']\n"
     ]
    },
    {
     "data": {
      "text/plain": [
       "1"
      ]
     },
     "execution_count": 5,
     "metadata": {},
     "output_type": "execute_result"
    }
   ],
   "source": [
    "sum_over = 0\n",
    "threshold = 300\n",
    "for opinion in opinions:\n",
    "    for sentence in opinion:\n",
    "        if len(sentence) > threshold:\n",
    "            sum_over += 1\n",
    "            print(sentence)\n",
    "\n",
    "sum_over"
   ]
  },
  {
   "cell_type": "code",
   "execution_count": 8,
   "metadata": {},
   "outputs": [
    {
     "name": "stdout",
     "output_type": "stream",
     "text": [
      "['Justice', 'GORSUCH', 'delivered', 'the', 'opinion', 'of', 'the', 'Court', '.']\n"
     ]
    }
   ],
   "source": [
    "print(opinions[0].sentences[0])"
   ]
  },
  {
   "attachments": {},
   "cell_type": "markdown",
   "metadata": {},
   "source": [
    "### How many tokens are there?"
   ]
  },
  {
   "cell_type": "code",
   "execution_count": 9,
   "metadata": {},
   "outputs": [
    {
     "data": {
      "text/plain": [
       "179690"
      ]
     },
     "execution_count": 9,
     "metadata": {},
     "output_type": "execute_result"
    }
   ],
   "source": [
    "token_total = sum([len(sentence) for opinion in opinions for sentence in opinion])\n",
    "token_total"
   ]
  },
  {
   "attachments": {},
   "cell_type": "markdown",
   "metadata": {},
   "source": [
    "### How many sentences are there?"
   ]
  },
  {
   "cell_type": "code",
   "execution_count": 11,
   "metadata": {},
   "outputs": [
    {
     "data": {
      "text/plain": [
       "7068"
      ]
     },
     "execution_count": 11,
     "metadata": {},
     "output_type": "execute_result"
    }
   ],
   "source": [
    "sentence_total = sum([len(opinion) for opinion in opinions])\n",
    "sentence_total"
   ]
  },
  {
   "attachments": {},
   "cell_type": "markdown",
   "metadata": {},
   "source": [
    "## Annotation Stats"
   ]
  },
  {
   "cell_type": "code",
   "execution_count": 12,
   "metadata": {},
   "outputs": [
    {
     "data": {
      "text/plain": [
       "[Annotation(category='Metalinguistic Cue', start=8, end=8, annotator=''),\n",
       " Annotation(category='Definition', start=9, end=32, annotator=''),\n",
       " Annotation(category='Direct Quote', start=24, end=27, annotator=''),\n",
       " Annotation(category='Focal Term', start=25, end=26, annotator='')]"
      ]
     },
     "execution_count": 12,
     "metadata": {},
     "output_type": "execute_result"
    }
   ],
   "source": [
    "# All of the annotations in the corpus, grouped by sentence\n",
    "all_annotations = [sentence.get_annotations(annotator=\"Michael\")\n",
    "               for opinion in opinions for sentence in opinion]\n",
    "\n",
    "# Remove sentences which have 0 annotations, which will show as empty lists\n",
    "all_annotations = [x for x in all_annotations if len(x) > 0]\n",
    "\n",
    "# Annotations for the first sentence that has any annotations\n",
    "all_annotations[0]"
   ]
  },
  {
   "attachments": {},
   "cell_type": "markdown",
   "metadata": {},
   "source": [
    "### How many annotations?"
   ]
  },
  {
   "cell_type": "code",
   "execution_count": 10,
   "metadata": {},
   "outputs": [
    {
     "data": {
      "text/plain": [
       "9819"
      ]
     },
     "execution_count": 10,
     "metadata": {},
     "output_type": "execute_result"
    }
   ],
   "source": [
    "annotations_total = sum([len(sentence_annotations) for sentence_annotations in all_annotations])\n",
    "annotations_total"
   ]
  },
  {
   "attachments": {},
   "cell_type": "markdown",
   "metadata": {},
   "source": [
    "### How many sentences with at least one annotation?"
   ]
  },
  {
   "cell_type": "code",
   "execution_count": 11,
   "metadata": {},
   "outputs": [
    {
     "name": "stdout",
     "output_type": "stream",
     "text": [
      "4447 (62.92%)\n"
     ]
    }
   ],
   "source": [
    "sents_with_annotation = len(all_annotations)\n",
    "print(f\"{sents_with_annotation} ({(sents_with_annotation/sentence_total) * 100:.2f}%)\")"
   ]
  },
  {
   "attachments": {},
   "cell_type": "markdown",
   "metadata": {},
   "source": [
    "### What percentage of tokens are covered by at least one annotation?"
   ]
  },
  {
   "cell_type": "code",
   "execution_count": 12,
   "metadata": {},
   "outputs": [
    {
     "name": "stdout",
     "output_type": "stream",
     "text": [
      "Tokens annotated with at least one category: 68715 (38.24%)\n"
     ]
    }
   ],
   "source": [
    "def get_token_coverage(sentence, annotation_column=2):\n",
    "    return sum([1 if len(token[annotation_column][\"categories\"]) > 0\n",
    "                else 0 for token in sentence])\n",
    "\n",
    "coverage = sum([get_token_coverage(sentence, 2) for opinion in opinions for sentence in opinion])\n",
    "\n",
    "print(f\"Tokens annotated with at least one category: {coverage} ({(coverage/token_total) * 100:.2f}%)\")\n"
   ]
  },
  {
   "attachments": {},
   "cell_type": "markdown",
   "metadata": {},
   "source": [
    "### Table: number of annotations for each category and their average length\n",
    "\n"
   ]
  },
  {
   "cell_type": "code",
   "execution_count": 13,
   "metadata": {},
   "outputs": [],
   "source": [
    "category_freqs_and_lens = {}\n",
    "for sentence_annotations in all_annotations:\n",
    "    for annotated_span in sentence_annotations:\n",
    "        category, start, end = [val for val in annotated_span]\n",
    "        category_freqs_and_lens.setdefault(category, {\"count\": 0, \"lengths\": [] })\n",
    "        category_freqs_and_lens[category][\"count\"] += 1\n",
    "        category_freqs_and_lens[category][\"lengths\"].append((end - start) + 1)\n"
   ]
  },
  {
   "cell_type": "code",
   "execution_count": 14,
   "metadata": {},
   "outputs": [
    {
     "name": "stdout",
     "output_type": "stream",
     "text": [
      "Table saved to results/tables/category_frequencies.txt\n"
     ]
    }
   ],
   "source": [
    "table_output = \"\"\n",
    "frequency_total = 0\n",
    "for category in categories.ORDERED_CATEGORIES:\n",
    "    frequency = category_freqs_and_lens[category][\"count\"]\n",
    "    frequency_total += frequency\n",
    "    mean = statistics.mean(category_freqs_and_lens[category][\"lengths\"])\n",
    "    st_dev = statistics.stdev(category_freqs_and_lens[category][\"lengths\"])\n",
    "    table_output += f\"{category} & {frequency} & {mean:.1f}{'{'} ({st_dev:.1f}){'}'}\\\\\\\\\\n\"\n",
    "table_output += \"\\\\midrule\\n\"\n",
    "table_output += f\"Total & {frequency_total} &\\\\\\\\\"\n",
    "output_path = Path(\"results/tables/category_frequencies.txt\")\n",
    "with output_path.open(\"w\", encoding=\"utf-8\") as f:\n",
    "    f.write(table_output)\n",
    "print(f\"Table saved to {output_path.as_posix()}\")"
   ]
  },
  {
   "attachments": {},
   "cell_type": "markdown",
   "metadata": {},
   "source": [
    "### What percentage of annotations were direct quotes or legal sources?"
   ]
  },
  {
   "cell_type": "code",
   "execution_count": 15,
   "metadata": {},
   "outputs": [
    {
     "name": "stdout",
     "output_type": "stream",
     "text": [
      "63.99% of annotations were direct quotes or legal sources\n"
     ]
    }
   ],
   "source": [
    "dq_les_sum = category_freqs_and_lens[\"Direct Quote\"][\"count\"] + category_freqs_and_lens[\"Legal Source\"][\"count\"]\n",
    "dq_les_percentage = (dq_les_sum / annotations_total) * 100\n",
    "print(f\"{dq_les_percentage:.2f}% of annotations were direct quotes or legal sources\")"
   ]
  },
  {
   "attachments": {},
   "cell_type": "markdown",
   "metadata": {},
   "source": [
    "### Scatter plot opinion length vs coverage percemntage"
   ]
  },
  {
   "cell_type": "code",
   "execution_count": 16,
   "metadata": {},
   "outputs": [],
   "source": [
    "from matplotlib import pyplot as plt"
   ]
  },
  {
   "cell_type": "code",
   "execution_count": 17,
   "metadata": {},
   "outputs": [],
   "source": [
    "opinion_token_counts = []\n",
    "opinion_annotation_counts = []\n",
    "    \n",
    "for opinion in opinions:\n",
    "    opinion_token_count = 0\n",
    "    opinion_annotation_count = 0\n",
    "    for sentence in opinion:\n",
    "        opinion_token_count += len(sentence)\n",
    "        sentence_annotations = inception_tsv.get_sentence_annotations(sentence)\n",
    "        opinion_annotation_count += len(sentence_annotations)\n",
    "    opinion_token_counts.append(opinion_token_count)\n",
    "    opinion_annotation_counts.append(opinion_annotation_count)"
   ]
  },
  {
   "cell_type": "code",
   "execution_count": 18,
   "metadata": {},
   "outputs": [
    {
     "data": {
      "text/plain": [
       "16658"
      ]
     },
     "execution_count": 18,
     "metadata": {},
     "output_type": "execute_result"
    }
   ],
   "source": [
    "max(opinion_token_counts)"
   ]
  },
  {
   "cell_type": "code",
   "execution_count": 19,
   "metadata": {},
   "outputs": [],
   "source": [
    "import statistics"
   ]
  },
  {
   "cell_type": "code",
   "execution_count": 20,
   "metadata": {},
   "outputs": [
    {
     "name": "stdout",
     "output_type": "stream",
     "text": [
      "Mean of 4383 tokens per opinion\n"
     ]
    }
   ],
   "source": [
    "mean_tokens = statistics.mean(opinion_token_counts)\n",
    "print(f\"Mean of {mean_tokens:.0f} tokens per opinion\")"
   ]
  },
  {
   "cell_type": "code",
   "execution_count": 21,
   "metadata": {},
   "outputs": [
    {
     "data": {
      "image/png": "[encoded data removed]",
      "text/plain": [
       "<Figure size 640x480 with 1 Axes>"
      ]
     },
     "metadata": {},
     "output_type": "display_data"
    }
   ],
   "source": [
    "plt.scatter(opinion_token_counts, opinion_annotation_counts)\n",
    "plt.title(\"Annotations per Opinion\")\n",
    "plt.xlabel(\"Opinion Length (tokens)\")\n",
    "plt.ylabel(\"Spans Annotated\")\n",
    "plt.savefig(\"results/figures/annotations_per_opinion.pdf\")"
   ]
  },
  {
   "cell_type": "code",
   "execution_count": 22,
   "metadata": {},
   "outputs": [],
   "source": [
    "metalinguistic_cue_set = set()\n",
    "metalinguistic_cue_token_set = set()\n",
    "for opinion in opinions:\n",
    "    for sentence in opinion:\n",
    "        sentence_annotations = inception_tsv.get_sentence_annotations(sentence)\n",
    "        for annotation in sentence_annotations:\n",
    "          category, start, end = [val for val in annotation]\n",
    "          if category == \"Metalinguistic Cue\":\n",
    "            span = \"\"\n",
    "            for i in range(start, end + 1):\n",
    "                span += \" \" + sentence[i][1].lower()\n",
    "                metalinguistic_cue_token_set.add(sentence[i][1].lower())\n",
    "            metalinguistic_cue_set.add(span.lstrip())"
   ]
  },
  {
   "cell_type": "code",
   "execution_count": 23,
   "metadata": {},
   "outputs": [
    {
     "data": {
      "text/plain": [
       "416"
      ]
     },
     "execution_count": 23,
     "metadata": {},
     "output_type": "execute_result"
    }
   ],
   "source": [
    "len(metalinguistic_cue_set)"
   ]
  },
  {
   "cell_type": "code",
   "execution_count": 24,
   "metadata": {},
   "outputs": [
    {
     "data": {
      "text/plain": [
       "367"
      ]
     },
     "execution_count": 24,
     "metadata": {},
     "output_type": "execute_result"
    }
   ],
   "source": [
    "len(metalinguistic_cue_token_set)"
   ]
  },
  {
   "attachments": {},
   "cell_type": "markdown",
   "metadata": {},
   "source": [
    "### Pie chart of opinion categories\n",
    "\n"
   ]
  },
  {
   "cell_type": "code",
   "execution_count": 25,
   "metadata": {},
   "outputs": [],
   "source": [
    "frequencies = Counter()\n",
    "for category in categories.ORDERED_CATEGORIES:\n",
    "    frequency = category_freqs_and_lens[category][\"count\"]\n",
    "    frequencies[category] += 1"
   ]
  },
  {
   "cell_type": "code",
   "execution_count": 33,
   "metadata": {},
   "outputs": [
    {
     "data": {
      "image/png": "[encoded data removed]",
      "text/plain": [
       "<Figure size 640x480 with 1 Axes>"
      ]
     },
     "metadata": {},
     "output_type": "display_data"
    }
   ],
   "source": [
    "fig, ax = plt.subplots()\n",
    "wedges, labels = ax.pie(x=[_[\"count\"] for _ in category_freqs_and_lens.values()], labels = category_freqs_and_lens.keys())"
   ]
  }
 ],
 "metadata": {
  "kernelspec": {
   "display_name": "curiam",
   "language": "python",
   "name": "python3"
  },
  "language_info": {
   "codemirror_mode": {
    "name": "ipython",
    "version": 3
   },
   "file_extension": ".py",
   "mimetype": "text/x-python",
   "name": "python",
   "nbconvert_exporter": "python",
   "pygments_lexer": "ipython3",
   "version": "3.9.16"
  },
  "orig_nbformat": 4
 },
 "nbformat": 4,
 "nbformat_minor": 2
}
