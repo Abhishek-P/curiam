{
 "cells": [
  {
   "attachments": {},
   "cell_type": "markdown",
   "metadata": {},
   "source": [
    "# Corpus Stats"
   ]
  },
  {
   "cell_type": "code",
   "execution_count": 1,
   "metadata": {},
   "outputs": [
    {
     "name": "stdout",
     "output_type": "stream",
     "text": [
      "/home/mkranzlein/michael/dev/curiam\n"
     ]
    }
   ],
   "source": [
    "# Allows for seamless use of updated src\n",
    "\n",
    "%load_ext autoreload\n",
    "%autoreload 2\n",
    "\n",
    "# Switch to top of curiam directory for easier paths\n",
    "%cd ../..\n"
   ]
  },
  {
   "cell_type": "code",
   "execution_count": 2,
   "metadata": {},
   "outputs": [],
   "source": [
    "import statistics\n",
    "\n",
    "from collections import Counter\n",
    "\n",
    "from curiam import categories\n",
    "from curiam.preprocessing import inception_tsv\n",
    "\n",
    "from pathlib import Path"
   ]
  },
  {
   "attachments": {},
   "cell_type": "markdown",
   "metadata": {},
   "source": [
    "## Data stats"
   ]
  },
  {
   "attachments": {},
   "cell_type": "markdown",
   "metadata": {},
   "source": [
    "### Table: total number of opinions and number of majority, concurring, and dissenting opinions"
   ]
  },
  {
   "cell_type": "code",
   "execution_count": 3,
   "metadata": {},
   "outputs": [
    {
     "name": "stdout",
     "output_type": "stream",
     "text": [
      "Table saved to results/tables/opinion_characteristics.txt\n"
     ]
    }
   ],
   "source": [
    "opinion_counts = {}\n",
    "\n",
    "# These are plain text files that whose names have been standarized.\n",
    "# TODO: Fix filenames in INCEpTION so exported filenames can be used directly\n",
    "opinions_with_docket_numbers_dir = Path(\n",
    "    \"data/full_scale/processed/inception_files_with_docket_numbers/\")\n",
    "\n",
    "for opinion_path in opinions_with_docket_numbers_dir.glob(\"*.txt\"):\n",
    "    # First 2 pieces make up docket number (e.g. 17_834), which we don't need\n",
    "    _, _, opinion_type, author = opinion_path.name.split(\"_\")\n",
    "    # Reformat authors for displaying in table\n",
    "    author = author[:-4]\n",
    "    author = author[0].upper() + author[1:]\n",
    "    if author not in opinion_counts.keys():\n",
    "        opinion_counts[author] = Counter()\n",
    "    opinion_counts[author][opinion_type] += 1\n",
    "\n",
    "authors = sorted(opinion_counts.keys())\n",
    "total = 0\n",
    "majority_total = 0\n",
    "concurrence_total = 0\n",
    "dissent_total = 0\n",
    "table_output = \"\"\n",
    "for author in authors:\n",
    "    # Calculate row sums and increment column totals\n",
    "    majority = opinion_counts[author][\"ootc\"]\n",
    "    majority_total += majority\n",
    "    concurrence = opinion_counts[author][\"concurrence\"]\n",
    "    concurrence_total += concurrence\n",
    "    dissent = opinion_counts[author][\"dissent\"]\n",
    "    dissent_total += dissent\n",
    "    # Total for this particular justice\n",
    "    justice_total = (majority + concurrence + dissent)\n",
    "    total += justice_total\n",
    "    table_output += f\"{author} & {majority} & {concurrence} & {dissent} & {justice_total}\\\\\\\\\\n\"\n",
    "table_output += \"\\\\bottomrule\\n\"\n",
    "table_output += f\"& {majority_total} & {concurrence_total} & {dissent_total} & {total}\\\\\\\\\"\n",
    "output_path = Path(\"results/tables/opinion_characteristics.txt\")\n",
    "with output_path.open(\"w\") as f:\n",
    "    f.write(table_output)\n",
    "print(f\"Table saved to {output_path.as_posix()}\")"
   ]
  },
  {
   "cell_type": "code",
   "execution_count": 4,
   "metadata": {},
   "outputs": [
    {
     "name": "stdout",
     "output_type": "stream",
     "text": [
      "Warning: token 'accord' has label * and note: Guidelines: this should not be annotated\\; it's a term of art\n",
      "Warning: token 'rule' has label *[239] and note: Don't remember decision on rule of lenity[239]\n",
      "Warning: token 'of' has label *[239] and note: Don't remember decision on rule of lenity[239]\n",
      "Warning: token 'lenity' has label *[239] and note: Don't remember decision on rule of lenity[239]\n"
     ]
    }
   ],
   "source": [
    "opinions_dir = Path(\"data/full_scale/annotated\")\n",
    "\n",
    "# These are lists of opinions which are lists of sentences\n",
    "# which are lists of tokens.\n",
    "# E.g. opinions_m[0][0][0] is the 0-th token of the 0-th sentence of the \n",
    "# 0-th opinion in the agreement study.\n",
    "opinions = [inception_tsv.process_opinion_file(opinion_path)\n",
    "            for opinion_path in sorted(opinions_dir.glob(\"*.tsv\"), key= lambda path: path.name)]\n",
    "\n",
    "assert len(opinions) == 41"
   ]
  },
  {
   "cell_type": "code",
   "execution_count": 5,
   "metadata": {},
   "outputs": [
    {
     "name": "stdout",
     "output_type": "stream",
     "text": [
      "[['608', 'See', {'categories': [], 'indexes': []}], ['608', ',', {'categories': [], 'indexes': []}], ['608', 'e.g.', {'categories': [], 'indexes': []}], ['608', ',', {'categories': [], 'indexes': []}], ['608', 'Complaint', {'categories': ['Legal Source'], 'indexes': [1]}], ['608', 'in', {'categories': ['Legal Source'], 'indexes': [1]}], ['608', 'Hecox', {'categories': ['Legal Source'], 'indexes': [1]}], ['608', ',', {'categories': ['Legal Source'], 'indexes': [1]}], ['608', 'No', {'categories': ['Legal Source'], 'indexes': [1]}], ['608', '.', {'categories': ['Legal Source'], 'indexes': [1]}], ['608', '1', {'categories': ['Legal Source'], 'indexes': [1]}], ['608', ':', {'categories': ['Legal Source'], 'indexes': [1]}], ['608', '20', {'categories': ['Legal Source'], 'indexes': [1]}], ['608', '-', {'categories': ['Legal Source'], 'indexes': [1]}], ['608', 'CV-00184', {'categories': ['Legal Source'], 'indexes': [1]}], ['608', '(', {'categories': [], 'indexes': []}], ['608', 'state', {'categories': [], 'indexes': []}], ['608', 'law', {'categories': [], 'indexes': []}], ['608', 'prohibiting', {'categories': [], 'indexes': []}], ['608', 'transgender', {'categories': [], 'indexes': []}], ['608', 'students', {'categories': [], 'indexes': []}], ['608', 'from', {'categories': [], 'indexes': []}], ['608', 'competing', {'categories': [], 'indexes': []}], ['608', 'in', {'categories': [], 'indexes': []}], ['608', 'school', {'categories': [], 'indexes': []}], ['608', 'sports', {'categories': [], 'indexes': []}], ['608', 'in', {'categories': [], 'indexes': []}], ['608', 'accordance', {'categories': [], 'indexes': []}], ['608', 'with', {'categories': [], 'indexes': []}], ['608', 'their', {'categories': [], 'indexes': []}], ['608', 'gender', {'categories': [], 'indexes': []}], ['608', 'identity', {'categories': [], 'indexes': []}], ['608', ')', {'categories': [], 'indexes': []}], ['608', ';', {'categories': [], 'indexes': []}], ['608', 'Second', {'categories': ['Legal Source'], 'indexes': [2]}], ['608', 'Amended', {'categories': ['Legal Source'], 'indexes': [2]}], ['608', 'Complaint', {'categories': ['Legal Source'], 'indexes': [2]}], ['608', 'in', {'categories': ['Legal Source'], 'indexes': [2]}], ['608', 'Karnoski', {'categories': ['Legal Source'], 'indexes': [2]}], ['608', 'v.', {'categories': ['Legal Source'], 'indexes': [2]}], ['608', 'Trump', {'categories': ['Legal Source'], 'indexes': [2]}], ['608', ',', {'categories': ['Legal Source'], 'indexes': [2]}], ['608', 'No', {'categories': ['Legal Source'], 'indexes': [2]}], ['608', '.', {'categories': ['Legal Source'], 'indexes': [2]}], ['608', '2:17', {'categories': ['Legal Source'], 'indexes': [2]}], ['608', '-', {'categories': ['Legal Source'], 'indexes': [2]}], ['608', 'cv-01297', {'categories': ['Legal Source'], 'indexes': [2]}], ['608', '(', {'categories': ['Legal Source'], 'indexes': [2]}], ['608', 'WD', {'categories': ['Legal Source'], 'indexes': [2]}], ['608', 'Wash.', {'categories': ['Legal Source'], 'indexes': [2]}], ['608', ',', {'categories': ['Legal Source'], 'indexes': [2]}], ['608', 'July', {'categories': ['Legal Source'], 'indexes': [2]}], ['608', '31', {'categories': ['Legal Source'], 'indexes': [2]}], ['608', ',', {'categories': ['Legal Source'], 'indexes': [2]}], ['608', '2019', {'categories': ['Legal Source'], 'indexes': [2]}], ['608', ')', {'categories': ['Legal Source'], 'indexes': [2]}], ['608', '(', {'categories': [], 'indexes': []}], ['608', 'military', {'categories': [], 'indexes': []}], ['608', \"'s\", {'categories': [], 'indexes': []}], ['608', 'ban', {'categories': [], 'indexes': []}], ['608', 'on', {'categories': [], 'indexes': []}], ['608', 'transgender', {'categories': [], 'indexes': []}], ['608', 'members', {'categories': [], 'indexes': []}], ['608', ')', {'categories': [], 'indexes': []}], ['608', ';', {'categories': [], 'indexes': []}], ['608', 'Kadel', {'categories': ['Legal Source'], 'indexes': [3]}], ['608', 'v.', {'categories': ['Legal Source'], 'indexes': [3]}], ['608', 'Folwell', {'categories': ['Legal Source'], 'indexes': [3]}], ['608', ',', {'categories': ['Legal Source'], 'indexes': [3]}], ['608', '----', {'categories': ['Legal Source'], 'indexes': [3]}], ['608', 'F.', {'categories': ['Legal Source'], 'indexes': [3]}], ['608', 'Supp', {'categories': ['Legal Source'], 'indexes': [3]}], ['608', '.', {'categories': ['Legal Source'], 'indexes': [3]}], ['608', '3d', {'categories': ['Legal Source'], 'indexes': [3]}], ['608', '----', {'categories': ['Legal Source'], 'indexes': [3]}], ['608', ',', {'categories': ['Legal Source'], 'indexes': [3]}], ['608', '----', {'categories': ['Legal Source'], 'indexes': [3]}], ['608', '-', {'categories': ['Legal Source'], 'indexes': [3]}], ['608', '----', {'categories': ['Legal Source'], 'indexes': [3]}], ['608', ',', {'categories': ['Legal Source'], 'indexes': [3]}], ['608', '2020', {'categories': ['Legal Source'], 'indexes': [3]}], ['608', 'WL', {'categories': ['Legal Source'], 'indexes': [3]}], ['608', '1169271', {'categories': ['Legal Source'], 'indexes': [3]}], ['608', ',', {'categories': ['Legal Source'], 'indexes': [3]}], ['608', '*', {'categories': ['Legal Source'], 'indexes': [3]}], ['608', '10-*11', {'categories': ['Legal Source'], 'indexes': [3]}], ['608', '(', {'categories': ['Legal Source'], 'indexes': [3]}], ['608', 'MDNC', {'categories': ['Legal Source'], 'indexes': [3]}], ['608', ',', {'categories': ['Legal Source'], 'indexes': [3]}], ['608', 'Mar.', {'categories': ['Legal Source'], 'indexes': [3]}], ['608', '11', {'categories': ['Legal Source'], 'indexes': [3]}], ['608', ',', {'categories': ['Legal Source'], 'indexes': [3]}], ['608', '2020', {'categories': ['Legal Source'], 'indexes': [3]}], ['608', ')', {'categories': ['Legal Source'], 'indexes': [3]}], ['608', '(', {'categories': [], 'indexes': []}], ['608', 'state', {'categories': [], 'indexes': []}], ['608', 'health', {'categories': [], 'indexes': []}], ['608', 'plan', {'categories': [], 'indexes': []}], ['608', \"'s\", {'categories': [], 'indexes': []}], ['608', 'exclusion', {'categories': [], 'indexes': []}], ['608', 'of', {'categories': [], 'indexes': []}], ['608', 'coverage', {'categories': [], 'indexes': []}], ['608', 'for', {'categories': [], 'indexes': []}], ['608', 'sex', {'categories': [], 'indexes': []}], ['608', 'reassignment', {'categories': [], 'indexes': []}], ['608', 'procedures', {'categories': [], 'indexes': []}], ['608', ')', {'categories': [], 'indexes': []}], ['608', ';', {'categories': [], 'indexes': []}], ['608', 'Complaint', {'categories': ['Legal Source'], 'indexes': [4]}], ['608', 'in', {'categories': ['Legal Source'], 'indexes': [4]}], ['608', 'Gore', {'categories': ['Legal Source'], 'indexes': [4]}], ['608', 'v.', {'categories': ['Legal Source'], 'indexes': [4]}], ['608', 'Lee', {'categories': ['Legal Source'], 'indexes': [4]}], ['608', ',', {'categories': ['Legal Source'], 'indexes': [4]}], ['608', 'No', {'categories': ['Legal Source'], 'indexes': [4]}], ['608', '.', {'categories': ['Legal Source'], 'indexes': [4]}], ['608', '3:19', {'categories': ['Legal Source'], 'indexes': [4]}], ['608', '-', {'categories': ['Legal Source'], 'indexes': [4]}], ['608', 'cv-00328', {'categories': ['Legal Source'], 'indexes': [4]}], ['608', '(', {'categories': ['Legal Source'], 'indexes': [4]}], ['608', 'MD', {'categories': ['Legal Source'], 'indexes': [4]}], ['608', 'Tenn.', {'categories': ['Legal Source'], 'indexes': [4]}], ['608', ',', {'categories': ['Legal Source'], 'indexes': [4]}], ['608', 'Mar.', {'categories': ['Legal Source'], 'indexes': [4]}], ['608', '3', {'categories': ['Legal Source'], 'indexes': [4]}], ['608', ',', {'categories': ['Legal Source'], 'indexes': [4]}], ['608', '2020', {'categories': ['Legal Source'], 'indexes': [4]}], ['608', ')', {'categories': ['Legal Source'], 'indexes': [4]}], ['608', '(', {'categories': [], 'indexes': []}], ['608', 'change', {'categories': [], 'indexes': []}], ['608', 'of', {'categories': [], 'indexes': []}], ['608', 'gender', {'categories': [], 'indexes': []}], ['608', 'on', {'categories': [], 'indexes': []}], ['608', 'birth', {'categories': [], 'indexes': []}], ['608', 'certificates', {'categories': [], 'indexes': []}], ['608', ')', {'categories': [], 'indexes': []}], ['608', ';', {'categories': [], 'indexes': []}], ['608', 'Brief', {'categories': [], 'indexes': []}], ['608', 'for', {'categories': ['Legal Source'], 'indexes': [5]}], ['608', 'Appellee', {'categories': ['Legal Source'], 'indexes': [5]}], ['608', 'in', {'categories': ['Legal Source'], 'indexes': [5]}], ['608', 'Grimm', {'categories': ['Legal Source'], 'indexes': [5]}], ['608', 'v.', {'categories': ['Legal Source'], 'indexes': [5]}], ['608', 'Gloucester', {'categories': ['Legal Source'], 'indexes': [5]}], ['608', 'Cty', {'categories': ['Legal Source'], 'indexes': [5]}], ['608', '.', {'categories': ['Legal Source'], 'indexes': [5]}], ['608', 'School', {'categories': ['Legal Source'], 'indexes': [5]}], ['608', 'Bd', {'categories': ['Legal Source'], 'indexes': [5]}], ['608', '.', {'categories': ['Legal Source'], 'indexes': [5]}], ['608', ',', {'categories': ['Legal Source'], 'indexes': [5]}], ['608', 'No', {'categories': ['Legal Source'], 'indexes': [5]}], ['608', '.', {'categories': ['Legal Source'], 'indexes': [5]}], ['608', '19', {'categories': ['Legal Source'], 'indexes': [5]}], ['608', '-', {'categories': ['Legal Source'], 'indexes': [5]}], ['608', '1952', {'categories': ['Legal Source'], 'indexes': [5]}], ['608', '(', {'categories': ['Legal Source'], 'indexes': [5]}], ['608', 'CA4', {'categories': ['Legal Source'], 'indexes': [5]}], ['608', ',', {'categories': ['Legal Source'], 'indexes': [5]}], ['608', 'Nov.', {'categories': ['Legal Source'], 'indexes': [5]}], ['608', '18', {'categories': ['Legal Source'], 'indexes': [5]}], ['608', ',', {'categories': ['Legal Source'], 'indexes': [5]}], ['608', '2019', {'categories': ['Legal Source'], 'indexes': [5]}], ['608', ')', {'categories': ['Legal Source'], 'indexes': [5]}], ['608', '(', {'categories': [], 'indexes': []}], ['608', 'transgender', {'categories': [], 'indexes': []}], ['608', 'student', {'categories': [], 'indexes': []}], ['608', 'forced', {'categories': [], 'indexes': []}], ['608', 'to', {'categories': [], 'indexes': []}], ['608', 'use', {'categories': [], 'indexes': []}], ['608', 'gender', {'categories': [], 'indexes': []}], ['608', 'neutral', {'categories': [], 'indexes': []}], ['608', 'bathrooms', {'categories': [], 'indexes': []}], ['608', 'at', {'categories': [], 'indexes': []}], ['608', 'school', {'categories': [], 'indexes': []}], ['608', ')', {'categories': [], 'indexes': []}], ['608', ';', {'categories': [], 'indexes': []}], ['608', 'Complaint', {'categories': ['Legal Source'], 'indexes': [6]}], ['608', 'in', {'categories': ['Legal Source'], 'indexes': [6]}], ['608', 'Corbitt', {'categories': ['Legal Source'], 'indexes': [6]}], ['608', 'v.', {'categories': ['Legal Source'], 'indexes': [6]}], ['608', 'Taylor', {'categories': ['Legal Source'], 'indexes': [6]}], ['608', ',', {'categories': ['Legal Source'], 'indexes': [6]}], ['608', 'No', {'categories': ['Legal Source'], 'indexes': [6]}], ['608', '.', {'categories': ['Legal Source'], 'indexes': [6]}], ['608', '2:18', {'categories': ['Legal Source'], 'indexes': [6]}], ['608', '-', {'categories': ['Legal Source'], 'indexes': [6]}], ['608', 'cv-00091', {'categories': ['Legal Source'], 'indexes': [6]}], ['608', '(', {'categories': ['Legal Source'], 'indexes': [6]}], ['608', 'MD', {'categories': ['Legal Source'], 'indexes': [6]}], ['608', 'Ala.', {'categories': ['Legal Source'], 'indexes': [6]}], ['608', ',', {'categories': ['Legal Source'], 'indexes': [6]}], ['608', 'July', {'categories': ['Legal Source'], 'indexes': [6]}], ['608', '25', {'categories': ['Legal Source'], 'indexes': [6]}], ['608', ',', {'categories': ['Legal Source'], 'indexes': [6]}], ['608', '2018', {'categories': ['Legal Source'], 'indexes': [6]}], ['608', ')', {'categories': ['Legal Source'], 'indexes': [6]}], ['608', '(', {'categories': [], 'indexes': []}], ['608', 'change', {'categories': [], 'indexes': []}], ['608', 'of', {'categories': [], 'indexes': []}], ['608', 'gender', {'categories': [], 'indexes': []}], ['608', 'on', {'categories': [], 'indexes': []}], ['608', 'driver', {'categories': [], 'indexes': []}], ['608', \"'s\", {'categories': [], 'indexes': []}], ['608', 'licenses', {'categories': [], 'indexes': []}], ['608', ')', {'categories': [], 'indexes': []}], ['608', ';', {'categories': [], 'indexes': []}], ['608', 'Whitaker', {'categories': ['Legal Source'], 'indexes': [7]}], ['608', ',', {'categories': ['Legal Source'], 'indexes': [7]}], ['608', '858', {'categories': ['Legal Source'], 'indexes': [7]}], ['608', 'F.3d', {'categories': ['Legal Source'], 'indexes': [7]}], ['608', 'at', {'categories': ['Legal Source'], 'indexes': [7]}], ['608', '1054', {'categories': ['Legal Source'], 'indexes': [7]}], ['608', '(', {'categories': [], 'indexes': []}], ['608', 'school', {'categories': [], 'indexes': []}], ['608', 'policy', {'categories': [], 'indexes': []}], ['608', 'requiring', {'categories': [], 'indexes': []}], ['608', 'students', {'categories': [], 'indexes': []}], ['608', 'to', {'categories': [], 'indexes': []}], ['608', 'use', {'categories': [], 'indexes': []}], ['608', 'the', {'categories': [], 'indexes': []}], ['608', 'bathroom', {'categories': [], 'indexes': []}], ['608', 'that', {'categories': [], 'indexes': []}], ['608', 'corresponds', {'categories': [], 'indexes': []}], ['608', 'to', {'categories': [], 'indexes': []}], ['608', 'the', {'categories': [], 'indexes': []}], ['608', 'sex', {'categories': [], 'indexes': []}], ['608', 'on', {'categories': [], 'indexes': []}], ['608', 'birth', {'categories': [], 'indexes': []}], ['608', 'certificate', {'categories': [], 'indexes': []}], ['608', ')', {'categories': [], 'indexes': []}], ['608', ';', {'categories': [], 'indexes': []}], ['608', 'Keohane', {'categories': ['Legal Source'], 'indexes': [8]}], ['608', 'v.', {'categories': ['Legal Source'], 'indexes': [8]}], ['608', 'Florida', {'categories': ['Legal Source'], 'indexes': [8]}], ['608', 'Dept', {'categories': ['Legal Source'], 'indexes': [8]}], ['608', '.', {'categories': ['Legal Source'], 'indexes': [8]}], ['608', 'of', {'categories': ['Legal Source'], 'indexes': [8]}], ['608', 'Corrections', {'categories': ['Legal Source'], 'indexes': [8]}], ['608', 'Secretary', {'categories': ['Legal Source'], 'indexes': [8]}], ['608', ',', {'categories': ['Legal Source'], 'indexes': [8]}], ['608', '952', {'categories': ['Legal Source'], 'indexes': [8]}], ['608', 'F.3d', {'categories': ['Legal Source'], 'indexes': [8]}], ['608', '1257', {'categories': ['Legal Source'], 'indexes': [8]}], ['608', ',', {'categories': ['Legal Source'], 'indexes': [8]}], ['608', '1262', {'categories': ['Legal Source'], 'indexes': [8]}], ['608', '-', {'categories': ['Legal Source'], 'indexes': [8]}], ['608', '1265', {'categories': ['Legal Source'], 'indexes': [8]}], ['608', '(', {'categories': ['Legal Source'], 'indexes': [8]}], ['608', 'CA11', {'categories': ['Legal Source'], 'indexes': [8]}], ['608', '2020', {'categories': ['Legal Source'], 'indexes': [8]}], ['608', ')', {'categories': ['Legal Source'], 'indexes': [8]}], ['608', '(', {'categories': [], 'indexes': []}], ['608', 'transgender', {'categories': [], 'indexes': []}], ['608', 'prisoner', {'categories': [], 'indexes': []}], ['608', 'denied', {'categories': [], 'indexes': []}], ['608', 'hormone', {'categories': [], 'indexes': []}], ['608', 'therapy', {'categories': [], 'indexes': []}], ['608', 'and', {'categories': [], 'indexes': []}], ['608', 'ability', {'categories': [], 'indexes': []}], ['608', 'to', {'categories': [], 'indexes': []}], ['608', 'dress', {'categories': [], 'indexes': []}], ['608', 'and', {'categories': [], 'indexes': []}], ['608', 'groom', {'categories': [], 'indexes': []}], ['608', 'as', {'categories': [], 'indexes': []}], ['608', 'a', {'categories': [], 'indexes': []}], ['608', 'female', {'categories': [], 'indexes': []}], ['608', ')', {'categories': [], 'indexes': []}], ['608', ';', {'categories': [], 'indexes': []}], ['608', 'Edmo', {'categories': ['Legal Source'], 'indexes': [9]}], ['608', 'v.', {'categories': ['Legal Source'], 'indexes': [9]}], ['608', 'Corizon', {'categories': ['Legal Source'], 'indexes': [9]}], ['608', ',', {'categories': ['Legal Source'], 'indexes': [9]}], ['608', 'Inc.', {'categories': ['Legal Source'], 'indexes': [9]}], ['608', ',', {'categories': ['Legal Source'], 'indexes': [9]}], ['608', '935', {'categories': ['Legal Source'], 'indexes': [9]}], ['608', 'F.3d', {'categories': ['Legal Source'], 'indexes': [9]}], ['608', '757', {'categories': ['Legal Source'], 'indexes': [9]}], ['608', ',', {'categories': ['Legal Source'], 'indexes': [9]}], ['608', '767', {'categories': ['Legal Source'], 'indexes': [9]}], ['608', '(', {'categories': ['Legal Source'], 'indexes': [9]}], ['608', 'CA9', {'categories': ['Legal Source'], 'indexes': [9]}], ['608', '2019', {'categories': ['Legal Source'], 'indexes': [9]}], ['608', ')', {'categories': ['Legal Source'], 'indexes': [9]}], ['608', '(', {'categories': [], 'indexes': []}], ['608', 'transgender', {'categories': [], 'indexes': []}], ['608', 'prisoner', {'categories': [], 'indexes': []}], ['608', 'requested', {'categories': [], 'indexes': []}], ['608', 'sex', {'categories': [], 'indexes': []}], ['608', 'reassignment', {'categories': [], 'indexes': []}], ['608', 'surgery', {'categories': [], 'indexes': []}], ['608', ')', {'categories': [], 'indexes': []}], ['608', ';', {'categories': [], 'indexes': []}], ['608', 'cf', {'categories': [], 'indexes': []}], ['608', '.', {'categories': [], 'indexes': []}], ['608', 'Glenn', {'categories': ['Legal Source'], 'indexes': [10]}], ['608', 'v.', {'categories': ['Legal Source'], 'indexes': [10]}], ['608', 'Brumby', {'categories': ['Legal Source'], 'indexes': [10]}], ['608', ',', {'categories': ['Legal Source'], 'indexes': [10]}], ['608', '663', {'categories': ['Legal Source'], 'indexes': [10]}], ['608', 'F.3d', {'categories': ['Legal Source'], 'indexes': [10]}], ['608', '1312', {'categories': ['Legal Source'], 'indexes': [10]}], ['608', ',', {'categories': ['Legal Source'], 'indexes': [10]}], ['608', '1320', {'categories': ['Legal Source'], 'indexes': [10]}], ['608', '(', {'categories': ['Legal Source'], 'indexes': [10]}], ['608', 'CA11', {'categories': ['Legal Source'], 'indexes': [10]}], ['608', '2011', {'categories': ['Legal Source'], 'indexes': [10]}], ['608', ')', {'categories': ['Legal Source'], 'indexes': [10]}], ['608', '(', {'categories': [], 'indexes': []}], ['608', 'transgender', {'categories': [], 'indexes': []}], ['608', 'individual', {'categories': [], 'indexes': []}], ['608', 'fired', {'categories': [], 'indexes': []}], ['608', 'for', {'categories': [], 'indexes': []}], ['608', 'gender', {'categories': [], 'indexes': []}], ['608', 'non', {'categories': [], 'indexes': []}], ['608', '-', {'categories': [], 'indexes': []}], ['608', 'conformity', {'categories': [], 'indexes': []}], ['608', ')', {'categories': [], 'indexes': []}], ['608', '.', {'categories': [], 'indexes': []}]]\n"
     ]
    },
    {
     "data": {
      "text/plain": [
       "1"
      ]
     },
     "execution_count": 5,
     "metadata": {},
     "output_type": "execute_result"
    }
   ],
   "source": [
    "sum_over = 0\n",
    "threshold = 300\n",
    "for opinion in opinions:\n",
    "    for sentence in opinion:\n",
    "        if len(sentence) > threshold:\n",
    "            sum_over += 1\n",
    "            print(sentence)\n",
    "            \n",
    "sum_over"
   ]
  },
  {
   "cell_type": "code",
   "execution_count": 6,
   "metadata": {},
   "outputs": [
    {
     "data": {
      "text/plain": [
       "[['1', 'Justice', {'categories': [], 'indexes': []}],\n",
       " ['1', 'GORSUCH', {'categories': [], 'indexes': []}],\n",
       " ['1', 'delivered', {'categories': [], 'indexes': []}],\n",
       " ['1', 'the', {'categories': [], 'indexes': []}],\n",
       " ['1', 'opinion', {'categories': [], 'indexes': []}],\n",
       " ['1', 'of', {'categories': [], 'indexes': []}],\n",
       " ['1', 'the', {'categories': [], 'indexes': []}],\n",
       " ['1', 'Court', {'categories': [], 'indexes': []}],\n",
       " ['1', '.', {'categories': [], 'indexes': []}]]"
      ]
     },
     "execution_count": 6,
     "metadata": {},
     "output_type": "execute_result"
    }
   ],
   "source": [
    "opinions[0][0]"
   ]
  },
  {
   "attachments": {},
   "cell_type": "markdown",
   "metadata": {},
   "source": [
    "### How many tokens are there?"
   ]
  },
  {
   "cell_type": "code",
   "execution_count": 7,
   "metadata": {},
   "outputs": [
    {
     "data": {
      "text/plain": [
       "179690"
      ]
     },
     "execution_count": 7,
     "metadata": {},
     "output_type": "execute_result"
    }
   ],
   "source": [
    "token_total = sum([len(sentence) for opinion in opinions for sentence in opinion])\n",
    "token_total"
   ]
  },
  {
   "attachments": {},
   "cell_type": "markdown",
   "metadata": {},
   "source": [
    "### How many sentences are there?"
   ]
  },
  {
   "cell_type": "code",
   "execution_count": 8,
   "metadata": {},
   "outputs": [
    {
     "data": {
      "text/plain": [
       "7068"
      ]
     },
     "execution_count": 8,
     "metadata": {},
     "output_type": "execute_result"
    }
   ],
   "source": [
    "sentence_total = sum([len(opinion) for opinion in opinions])\n",
    "sentence_total"
   ]
  },
  {
   "attachments": {},
   "cell_type": "markdown",
   "metadata": {},
   "source": [
    "## Annotation Stats"
   ]
  },
  {
   "cell_type": "code",
   "execution_count": 9,
   "metadata": {},
   "outputs": [
    {
     "data": {
      "text/plain": [
       "[['Metalinguistic Cue', 8, 8],\n",
       " ['Definition', 9, 32],\n",
       " ['Direct Quote', 24, 27],\n",
       " ['Focal Term', 25, 26]]"
      ]
     },
     "execution_count": 9,
     "metadata": {},
     "output_type": "execute_result"
    }
   ],
   "source": [
    "# All of the annotations in the corpus, grouped by sentence\n",
    "all_annotations = [inception_tsv.get_sentence_annotations(sentence)\n",
    "               for opinion in opinions for sentence in opinion]\n",
    "\n",
    "# Remove sentences which have 0 annotations, which will show as empty lists\n",
    "all_annotations = [x for x in all_annotations if len(x) > 0]\n",
    "\n",
    "# Annotations for the first sentence that has any annotations\n",
    "all_annotations[0]"
   ]
  },
  {
   "attachments": {},
   "cell_type": "markdown",
   "metadata": {},
   "source": [
    "### How many annotations?"
   ]
  },
  {
   "cell_type": "code",
   "execution_count": 10,
   "metadata": {},
   "outputs": [
    {
     "data": {
      "text/plain": [
       "9819"
      ]
     },
     "execution_count": 10,
     "metadata": {},
     "output_type": "execute_result"
    }
   ],
   "source": [
    "annotations_total = sum([len(sentence_annotations) for sentence_annotations in all_annotations])\n",
    "annotations_total"
   ]
  },
  {
   "attachments": {},
   "cell_type": "markdown",
   "metadata": {},
   "source": [
    "### How many sentences with at least one annotation?"
   ]
  },
  {
   "cell_type": "code",
   "execution_count": 11,
   "metadata": {},
   "outputs": [
    {
     "name": "stdout",
     "output_type": "stream",
     "text": [
      "4447 (62.92%)\n"
     ]
    }
   ],
   "source": [
    "sents_with_annotation = len(all_annotations)\n",
    "print(f\"{sents_with_annotation} ({(sents_with_annotation/sentence_total) * 100:.2f}%)\")"
   ]
  },
  {
   "attachments": {},
   "cell_type": "markdown",
   "metadata": {},
   "source": [
    "### What percentage of tokens are covered by at least one annotation?"
   ]
  },
  {
   "cell_type": "code",
   "execution_count": 12,
   "metadata": {},
   "outputs": [
    {
     "name": "stdout",
     "output_type": "stream",
     "text": [
      "Tokens annotated with at least one category: 68715 (38.24%)\n"
     ]
    }
   ],
   "source": [
    "def get_token_coverage(sentence, annotation_column=2):\n",
    "    return sum([1 if len(token[annotation_column][\"categories\"]) > 0\n",
    "                else 0 for token in sentence])\n",
    "\n",
    "coverage = sum([get_token_coverage(sentence, 2) for opinion in opinions for sentence in opinion])\n",
    "\n",
    "print(f\"Tokens annotated with at least one category: {coverage} ({(coverage/token_total) * 100:.2f}%)\")\n"
   ]
  },
  {
   "attachments": {},
   "cell_type": "markdown",
   "metadata": {},
   "source": [
    "### Table: number of annotations for each category and their average length\n",
    "\n"
   ]
  },
  {
   "cell_type": "code",
   "execution_count": 13,
   "metadata": {},
   "outputs": [],
   "source": [
    "category_freqs_and_lens = {}\n",
    "for sentence_annotations in all_annotations:\n",
    "    for annotated_span in sentence_annotations:\n",
    "        category, start, end = [val for val in annotated_span]\n",
    "        category_freqs_and_lens.setdefault(category, {\"count\": 0, \"lengths\": [] })\n",
    "        category_freqs_and_lens[category][\"count\"] += 1\n",
    "        category_freqs_and_lens[category][\"lengths\"].append((end - start) + 1)\n"
   ]
  },
  {
   "cell_type": "code",
   "execution_count": 14,
   "metadata": {},
   "outputs": [
    {
     "name": "stdout",
     "output_type": "stream",
     "text": [
      "Table saved to results/tables/category_frequencies.txt\n"
     ]
    }
   ],
   "source": [
    "table_output = \"\"\n",
    "frequency_total = 0\n",
    "for category in categories.ORDERED_CATEGORIES:\n",
    "    frequency = category_freqs_and_lens[category][\"count\"]\n",
    "    frequency_total += frequency\n",
    "    mean = statistics.mean(category_freqs_and_lens[category][\"lengths\"])\n",
    "    st_dev = statistics.stdev(category_freqs_and_lens[category][\"lengths\"])\n",
    "    table_output += f\"{category} & {frequency} & {mean:.1f}{'{'} ({st_dev:.1f}){'}'}\\\\\\\\\\n\"\n",
    "table_output += \"\\\\midrule\\n\"\n",
    "table_output += f\"Total & {frequency_total} &\\\\\\\\\"\n",
    "output_path = Path(\"results/tables/category_frequencies.txt\")\n",
    "with output_path.open(\"w\", encoding=\"utf-8\") as f:\n",
    "    f.write(table_output)\n",
    "print(f\"Table saved to {output_path.as_posix()}\")"
   ]
  },
  {
   "attachments": {},
   "cell_type": "markdown",
   "metadata": {},
   "source": [
    "### What percentage of annotations were direct quotes or legal sources?"
   ]
  },
  {
   "cell_type": "code",
   "execution_count": 15,
   "metadata": {},
   "outputs": [
    {
     "name": "stdout",
     "output_type": "stream",
     "text": [
      "63.99% of annotations were direct quotes or legal sources\n"
     ]
    }
   ],
   "source": [
    "dq_les_sum = category_freqs_and_lens[\"Direct Quote\"][\"count\"] + category_freqs_and_lens[\"Legal Source\"][\"count\"]\n",
    "dq_les_percentage = (dq_les_sum / annotations_total) * 100\n",
    "print(f\"{dq_les_percentage:.2f}% of annotations were direct quotes or legal sources\")"
   ]
  },
  {
   "attachments": {},
   "cell_type": "markdown",
   "metadata": {},
   "source": [
    "### Scatter plot opinion length vs coverage percemntage"
   ]
  },
  {
   "cell_type": "code",
   "execution_count": 16,
   "metadata": {},
   "outputs": [],
   "source": [
    "from matplotlib import pyplot as plt"
   ]
  },
  {
   "cell_type": "code",
   "execution_count": 17,
   "metadata": {},
   "outputs": [],
   "source": [
    "opinion_token_counts = []\n",
    "opinion_annotation_counts = []\n",
    "    \n",
    "for opinion in opinions:\n",
    "    opinion_token_count = 0\n",
    "    opinion_annotation_count = 0\n",
    "    for sentence in opinion:\n",
    "        opinion_token_count += len(sentence)\n",
    "        sentence_annotations = inception_tsv.get_sentence_annotations(sentence)\n",
    "        opinion_annotation_count += len(sentence_annotations)\n",
    "    opinion_token_counts.append(opinion_token_count)\n",
    "    opinion_annotation_counts.append(opinion_annotation_count)"
   ]
  },
  {
   "cell_type": "code",
   "execution_count": 18,
   "metadata": {},
   "outputs": [
    {
     "data": {
      "text/plain": [
       "16658"
      ]
     },
     "execution_count": 18,
     "metadata": {},
     "output_type": "execute_result"
    }
   ],
   "source": [
    "max(opinion_token_counts)"
   ]
  },
  {
   "cell_type": "code",
   "execution_count": 19,
   "metadata": {},
   "outputs": [],
   "source": [
    "import statistics"
   ]
  },
  {
   "cell_type": "code",
   "execution_count": 20,
   "metadata": {},
   "outputs": [
    {
     "name": "stdout",
     "output_type": "stream",
     "text": [
      "Mean of 4383 tokens per opinion\n"
     ]
    }
   ],
   "source": [
    "mean_tokens = statistics.mean(opinion_token_counts)\n",
    "print(f\"Mean of {mean_tokens:.0f} tokens per opinion\")"
   ]
  },
  {
   "cell_type": "code",
   "execution_count": 21,
   "metadata": {},
   "outputs": [
    {
     "data": {
      "image/png": "[encoded data removed]",
      "text/plain": [
       "<Figure size 640x480 with 1 Axes>"
      ]
     },
     "metadata": {},
     "output_type": "display_data"
    }
   ],
   "source": [
    "plt.scatter(opinion_token_counts, opinion_annotation_counts)\n",
    "plt.title(\"Annotations per Opinion\")\n",
    "plt.xlabel(\"Opinion Length (tokens)\")\n",
    "plt.ylabel(\"Spans Annotated\")\n",
    "plt.savefig(\"results/figures/annotations_per_opinion.pdf\")"
   ]
  },
  {
   "cell_type": "code",
   "execution_count": 22,
   "metadata": {},
   "outputs": [],
   "source": [
    "metalinguistic_cue_set = set()\n",
    "metalinguistic_cue_token_set = set()\n",
    "for opinion in opinions:\n",
    "    for sentence in opinion:\n",
    "        sentence_annotations = inception_tsv.get_sentence_annotations(sentence)\n",
    "        for annotation in sentence_annotations:\n",
    "          category, start, end = [val for val in annotation]\n",
    "          if category == \"Metalinguistic Cue\":\n",
    "            span = \"\"\n",
    "            for i in range(start, end + 1):\n",
    "                span += \" \" + sentence[i][1].lower()\n",
    "                metalinguistic_cue_token_set.add(sentence[i][1].lower())\n",
    "            metalinguistic_cue_set.add(span.lstrip())"
   ]
  },
  {
   "cell_type": "code",
   "execution_count": 23,
   "metadata": {},
   "outputs": [
    {
     "data": {
      "text/plain": [
       "416"
      ]
     },
     "execution_count": 23,
     "metadata": {},
     "output_type": "execute_result"
    }
   ],
   "source": [
    "len(metalinguistic_cue_set)"
   ]
  },
  {
   "cell_type": "code",
   "execution_count": 24,
   "metadata": {},
   "outputs": [
    {
     "data": {
      "text/plain": [
       "367"
      ]
     },
     "execution_count": 24,
     "metadata": {},
     "output_type": "execute_result"
    }
   ],
   "source": [
    "len(metalinguistic_cue_token_set)"
   ]
  }
 ],
 "metadata": {
  "kernelspec": {
   "display_name": "curiam",
   "language": "python",
   "name": "python3"
  },
  "language_info": {
   "codemirror_mode": {
    "name": "ipython",
    "version": 3
   },
   "file_extension": ".py",
   "mimetype": "text/x-python",
   "name": "python",
   "nbconvert_exporter": "python",
   "pygments_lexer": "ipython3",
   "version": "3.9.16"
  },
  "orig_nbformat": 4
 },
 "nbformat": 4,
 "nbformat_minor": 2
}
