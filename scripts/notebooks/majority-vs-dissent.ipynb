{
 "cells": [
  {
   "cell_type": "markdown",
   "metadata": {},
   "source": [
    "# Analysis of majority opinions vs dissenting opinions"
   ]
  },
  {
   "cell_type": "markdown",
   "metadata": {},
   "source": [
    "## Load opinions and separate majority, concurrence, and dissent"
   ]
  },
  {
   "cell_type": "code",
   "execution_count": 1,
   "metadata": {},
   "outputs": [],
   "source": [
    "%cd -q ../.."
   ]
  },
  {
   "cell_type": "code",
   "execution_count": 2,
   "metadata": {},
   "outputs": [],
   "source": [
    "import math\n",
    "from pathlib import Path\n",
    "\n",
    "from curiam.preprocessing import inception_tsv\n",
    "from curiam import categories"
   ]
  },
  {
   "cell_type": "code",
   "execution_count": 3,
   "metadata": {},
   "outputs": [
    {
     "name": "stdout",
     "output_type": "stream",
     "text": [
      "Warning: token 'accord' has label * and note: Guidelines: this should not be annotated\\; it's a term of art\n"
     ]
    },
    {
     "name": "stdout",
     "output_type": "stream",
     "text": [
      "Warning: token 'rule' has label *[239] and note: Don't remember decision on rule of lenity[239]\n",
      "Warning: token 'of' has label *[239] and note: Don't remember decision on rule of lenity[239]\n",
      "Warning: token 'lenity' has label *[239] and note: Don't remember decision on rule of lenity[239]\n",
      "Warning: token 'accord' has label * and note: Guidelines: this should not be annotated\\; it's a term of art\n",
      "Warning: token 'rule' has label *[239] and note: Don't remember decision on rule of lenity[239]\n",
      "Warning: token 'of' has label *[239] and note: Don't remember decision on rule of lenity[239]\n",
      "Warning: token 'lenity' has label *[239] and note: Don't remember decision on rule of lenity[239]\n"
     ]
    }
   ],
   "source": [
    "opinions_dir = Path(\"data/main/annotated/updated_names\")\n",
    "\n",
    "opinions = [inception_tsv.process_opinion_file(opinion_path, opinion_path.name)\n",
    "            for opinion_path in sorted(opinions_dir.glob(\"*.tsv\"), key= lambda path: path.name)]\n",
    "\n",
    "majority = [inception_tsv.process_opinion_file(opinion_path, opinion_path.name)\n",
    "            for opinion_path in sorted(opinions_dir.glob(\"*ootc*.tsv\"), key= lambda path: path.name)]\n",
    "\n",
    "concurrence = [inception_tsv.process_opinion_file(opinion_path, opinion_path.name)\n",
    "            for opinion_path in sorted(opinions_dir.glob(\"*concurrence*.tsv\"), key= lambda path: path.name)]\n",
    "\n",
    "dissent = [inception_tsv.process_opinion_file(opinion_path, opinion_path.name)\n",
    "            for opinion_path in sorted(opinions_dir.glob(\"*dissent*.tsv\"), key= lambda path: path.name)]\n"
   ]
  },
  {
   "cell_type": "code",
   "execution_count": 4,
   "metadata": {},
   "outputs": [],
   "source": [
    "# Remove the Kavanaugh Outlier\n",
    "\n",
    "# opinions_dir = Path(\"data/main/annotated/updated_names\")\n",
    "\n",
    "\n",
    "# op_files = list(sorted(opinions_dir.glob(\"*.tsv\"), key= lambda path: path.name))\n",
    "# for i, name in enumerate(op_files):\n",
    "#     if \"18_6662\" in name.name:\n",
    "#         op_files.pop(i)\n",
    "#         print(\"REMOVED FILE\")\n",
    "\n",
    "\n",
    "# opinions = [inception_tsv.process_opinion_file(opinion_path, opinion_path.name)\n",
    "#             for opinion_path in op_files]\n",
    "\n",
    "# majority = [inception_tsv.process_opinion_file(opinion_path, opinion_path.name)\n",
    "#             for opinion_path in sorted(opinions_dir.glob(\"*ootc*.tsv\"), key= lambda path: path.name)]\n",
    "\n",
    "\n",
    "# conc_files = list(sorted(opinions_dir.glob(\"*concurrence*.tsv\"), key= lambda path: path.name))\n",
    "# for i, name in enumerate(conc_files):\n",
    "#     if \"18_6662\" in name.name:\n",
    "#         conc_files.pop(i)\n",
    "#         print(\"REMOVED FILE\")\n",
    "\n",
    "# concurrence = [inception_tsv.process_opinion_file(opinion_path, opinion_path.name)\n",
    "#             for opinion_path in conc_files]\n",
    "\n",
    "# dissent = [inception_tsv.process_opinion_file(opinion_path, opinion_path.name)\n",
    "#             for opinion_path in sorted(opinions_dir.glob(\"*dissent*.tsv\"), key= lambda path: path.name)]\n"
   ]
  },
  {
   "cell_type": "code",
   "execution_count": 5,
   "metadata": {},
   "outputs": [
    {
     "data": {
      "text/plain": [
       "18"
      ]
     },
     "execution_count": 5,
     "metadata": {},
     "output_type": "execute_result"
    }
   ],
   "source": [
    "len(majority)"
   ]
  },
  {
   "cell_type": "code",
   "execution_count": 6,
   "metadata": {},
   "outputs": [
    {
     "data": {
      "text/plain": [
       "11"
      ]
     },
     "execution_count": 6,
     "metadata": {},
     "output_type": "execute_result"
    }
   ],
   "source": [
    "len(concurrence)"
   ]
  },
  {
   "cell_type": "code",
   "execution_count": 7,
   "metadata": {},
   "outputs": [
    {
     "data": {
      "text/plain": [
       "12"
      ]
     },
     "execution_count": 7,
     "metadata": {},
     "output_type": "execute_result"
    }
   ],
   "source": [
    "len(dissent)"
   ]
  },
  {
   "cell_type": "code",
   "execution_count": 8,
   "metadata": {},
   "outputs": [
    {
     "data": {
      "text/plain": [
       "5292.611111111111"
      ]
     },
     "execution_count": 8,
     "metadata": {},
     "output_type": "execute_result"
    }
   ],
   "source": [
    "token_total = sum([len(sentence) for opinion in majority for sentence in opinion])\n",
    "token_total / 18"
   ]
  },
  {
   "cell_type": "code",
   "execution_count": 9,
   "metadata": {},
   "outputs": [
    {
     "data": {
      "text/plain": [
       "1239.4545454545455"
      ]
     },
     "execution_count": 9,
     "metadata": {},
     "output_type": "execute_result"
    }
   ],
   "source": [
    "token_total = sum([len(sentence) for opinion in concurrence for sentence in opinion])\n",
    "token_total / 11"
   ]
  },
  {
   "cell_type": "code",
   "execution_count": 10,
   "metadata": {},
   "outputs": [
    {
     "data": {
      "text/plain": [
       "5899.083333333333"
      ]
     },
     "execution_count": 10,
     "metadata": {},
     "output_type": "execute_result"
    }
   ],
   "source": [
    "token_total = sum([len(sentence) for opinion in dissent for sentence in opinion])\n",
    "token_total / 12"
   ]
  },
  {
   "cell_type": "code",
   "execution_count": 11,
   "metadata": {},
   "outputs": [
    {
     "data": {
      "text/plain": [
       "[6,\n",
       " 10,\n",
       " 10,\n",
       " 12,\n",
       " 23,\n",
       " 26,\n",
       " 30,\n",
       " 44,\n",
       " 95,\n",
       " 95,\n",
       " 96,\n",
       " 96,\n",
       " 101,\n",
       " 101,\n",
       " 102,\n",
       " 105,\n",
       " 113,\n",
       " 126,\n",
       " 141,\n",
       " 155,\n",
       " 171,\n",
       " 174,\n",
       " 175,\n",
       " 176,\n",
       " 176,\n",
       " 179,\n",
       " 213,\n",
       " 215,\n",
       " 225,\n",
       " 227,\n",
       " 227,\n",
       " 244,\n",
       " 245,\n",
       " 247,\n",
       " 257,\n",
       " 289,\n",
       " 332,\n",
       " 334,\n",
       " 337,\n",
       " 518,\n",
       " 620]"
      ]
     },
     "execution_count": 11,
     "metadata": {},
     "output_type": "execute_result"
    }
   ],
   "source": [
    "sorted([len(opinion) for opinion in opinions])"
   ]
  },
  {
   "cell_type": "code",
   "execution_count": 12,
   "metadata": {},
   "outputs": [
    {
     "data": {
      "text/plain": [
       "7068"
      ]
     },
     "execution_count": 12,
     "metadata": {},
     "output_type": "execute_result"
    }
   ],
   "source": [
    "sentence_total = sum([len(opinion) for opinion in opinions])\n",
    "sentence_total"
   ]
  },
  {
   "cell_type": "code",
   "execution_count": 13,
   "metadata": {},
   "outputs": [],
   "source": [
    "def get_cat_freqs(annotations):\n",
    "    cat_freqs = {}\n",
    "    for sentence_annotations in annotations:\n",
    "        for annotation in sentence_annotations:\n",
    "            category = annotation.category\n",
    "            start = annotation.start\n",
    "            end = annotation.end\n",
    "            cat_freqs.setdefault(category, {\"count\": 0, \"lengths\": [] })\n",
    "            cat_freqs[category][\"count\"] += 1\n",
    "            cat_freqs[category][\"lengths\"].append((end - start) + 1)\n",
    "    return cat_freqs"
   ]
  },
  {
   "cell_type": "code",
   "execution_count": 14,
   "metadata": {},
   "outputs": [],
   "source": [
    "maj_annotations = [sentence.get_annotations()\n",
    "               for opinion in majority for sentence in opinion]\n",
    "maj_annotations = [x for x in maj_annotations if len(x) > 0]\n",
    "maj_cat_freqs = get_cat_freqs(maj_annotations)\n",
    "maj_tok = sum([len(sentence) for opinion in majority for sentence in opinion])\n",
    "\n",
    "conc_annotations = [sentence.get_annotations()\n",
    "               for opinion in concurrence for sentence in opinion]\n",
    "conc_annotations = [x for x in conc_annotations if len(x) > 0]\n",
    "conc_cat_freqs = get_cat_freqs(conc_annotations)\n",
    "conc_tok = sum([len(sentence) for opinion in concurrence for sentence in opinion])\n",
    "\n",
    "diss_annotations = [sentence.get_annotations()\n",
    "               for opinion in dissent for sentence in opinion]\n",
    "diss_annotations = [x for x in diss_annotations if len(x) > 0]\n",
    "diss_cat_freqs = get_cat_freqs(diss_annotations)\n",
    "diss_tok = sum([len(sentence) for opinion in dissent for sentence in opinion])\n",
    "\n",
    "op_annotations = [sentence.get_annotations()\n",
    "               for opinion in opinions for sentence in opinion]\n",
    "op_annotations = [x for x in op_annotations if len(x) > 0]\n",
    "op_cat_freqs = get_cat_freqs(op_annotations)\n",
    "op_tok = sum([len(sentence) for opinion in opinions for sentence in opinion])"
   ]
  },
  {
   "cell_type": "code",
   "execution_count": 15,
   "metadata": {},
   "outputs": [
    {
     "data": {
      "text/plain": [
       "dict_keys(['Legal Source', 'Direct Quote', 'Metalinguistic Cue', 'Focal Term', 'Appeal to Meaning', 'Named Interpretive Rule', 'Definition', 'Language Source'])"
      ]
     },
     "execution_count": 15,
     "metadata": {},
     "output_type": "execute_result"
    }
   ],
   "source": [
    "conc_cat_freqs.keys()"
   ]
  },
  {
   "cell_type": "code",
   "execution_count": 16,
   "metadata": {},
   "outputs": [
    {
     "name": "stdout",
     "output_type": "stream",
     "text": [
      "\\cellcolor{white!80!blue!70}0.80\n"
     ]
    }
   ],
   "source": [
    "def get_cell_color(val):\n",
    "    min_val = 0\n",
    "    max_val = 2\n",
    "    mid_val = 1\n",
    "\n",
    "    low_color = \"blue\"\n",
    "    mid_color = \"white\"\n",
    "    high_color = \"orange\"\n",
    "    opacity = 70\n",
    "    output = \"\"\n",
    "\n",
    "    if val > max_val or val < min_val:\n",
    "        return rf\"\\cellcolor{{gray!50!white!{opacity}}}{val:.2f}\"\n",
    "\n",
    "    if val < mid_val:\n",
    "        mid_strength = round(100 * (val - min_val) / (mid_val - min_val))\n",
    "        output = rf\"\\cellcolor{{{mid_color}!{mid_strength}!{low_color}!{opacity}}}{val:.2f}\"\n",
    "    else:\n",
    "        high_strength = round(100 * (val - mid_val) / (max_val - mid_val))\n",
    "        output = rf\"\\cellcolor{{{high_color}!{high_strength}!{mid_color}!{opacity}}}{val:.2f}\"\n",
    "    return output\n",
    "\n",
    "\n",
    "print(get_cell_color(.8))"
   ]
  },
  {
   "cell_type": "code",
   "execution_count": 17,
   "metadata": {},
   "outputs": [],
   "source": [
    "def get_count_color(val):\n",
    "    min_val = 0\n",
    "    max_val = 1990\n",
    "    mid_color = \"white\"\n",
    "    high_color = \"orange\"\n",
    "    opacity = 70\n",
    "    min_val = 0\n",
    "    max_val = math.log(max_val)\n",
    "\n",
    "    if val == 0:\n",
    "        log_val = 0\n",
    "    else:\n",
    "        log_val = math.log(val)\n",
    "\n",
    "    high_strength = round(100 * (log_val - min_val) / (max_val - min_val))\n",
    "    output = fr\"\\cellcolor{{{high_color}!{high_strength}!{mid_color}!{opacity}}}{val}\"\n",
    "    return output"
   ]
  },
  {
   "cell_type": "code",
   "execution_count": 18,
   "metadata": {},
   "outputs": [],
   "source": [
    "def get_relative_frequencies(conc, diss, conc_tok, diss_tok):\n",
    "    for k in categories.ORDERED_CATEGORIES:\n",
    "        if k in conc.keys():\n",
    "            maj_ratio = (conc[k][\"count\"] / conc_tok) / (maj_cat_freqs[k][\"count\"] / maj_tok)\n",
    "            op_ratio = (conc[k][\"count\"] / conc_tok) / (op_cat_freqs[k][\"count\"] / op_tok)\n",
    "        else:\n",
    "            maj_ratio = -9999\n",
    "            op_ratio = -9999\n",
    "        if k in diss.keys():\n",
    "            diss_maj_ratio = (diss[k][\"count\"] / diss_tok) / (maj_cat_freqs[k][\"count\"] / maj_tok)\n",
    "            diss_op_ratio = (diss[k][\"count\"] / diss_tok) / (op_cat_freqs[k][\"count\"] / op_tok)\n",
    "\n",
    "        maj_ratio = get_cell_color(round(maj_ratio, 2))\n",
    "        op_ratio = get_cell_color(round(op_ratio, 2))\n",
    "        diss_maj_ratio = get_cell_color(round(diss_maj_ratio, 2))\n",
    "        diss_op_ratio = get_cell_color(round(diss_op_ratio, 2))\n",
    "        #print(f\"{k} & \\\\gc{{{maj_ratio:.2f}}} & \\\\gc{{{op_ratio:.2f}}} & \\\\gc{{{diss_maj_ratio:.2f}}} & \\\\gc{{{diss_op_ratio:.2f}}}\\\\\\\\\")\n",
    "        print(f\"{k} & {maj_ratio} & {op_ratio} & {diss_maj_ratio} & {diss_op_ratio}\\\\\\\\\")\n"
   ]
  },
  {
   "cell_type": "code",
   "execution_count": 19,
   "metadata": {},
   "outputs": [
    {
     "name": "stdout",
     "output_type": "stream",
     "text": [
      "\\cellcolor{orange!80!white!70}442 & \\cellcolor{orange!48!white!70}37 & \\cellcolor{orange!83!white!70}564 & Focal Term & \\cellcolor{white!80!blue!70}0.80 & \\cellcolor{white!47!blue!70}0.47 & \\cellcolor{orange!37!white!70}1.37\\\\\n",
      "\\cellcolor{orange!62!white!70}114 & \\cellcolor{orange!29!white!70}9 & \\cellcolor{orange!66!white!70}150 & Definition & \\cellcolor{white!79!blue!70}0.79 & \\cellcolor{white!43!blue!70}0.43 & \\cellcolor{orange!39!white!70}1.39\\\\\n",
      "\\cellcolor{orange!87!white!70}758 & \\cellcolor{orange!63!white!70}121 & \\cellcolor{orange!90!white!70}905 & Metalinguistic Cue & \\cellcolor{white!80!blue!70}0.80 & \\cellcolor{white!89!blue!70}0.89 & \\cellcolor{orange!29!white!70}1.29\\\\\n",
      "\\cellcolor{orange!94!white!70}1247 & \\cellcolor{orange!70!white!70}198 & \\cellcolor{orange!93!white!70}1132 & Direct Quote & \\cellcolor{white!91!blue!70}0.91 & \\cellcolor{orange!1!white!70}1.01 & \\cellcolor{orange!12!white!70}1.12\\\\\n",
      "\\cellcolor{orange!100!white!70}1990 & \\cellcolor{orange!76!white!70}323 & \\cellcolor{orange!95!white!70}1393 & Legal Source & \\cellcolor{orange!1!white!70}1.01 & \\cellcolor{orange!15!white!70}1.15 & \\cellcolor{white!95!blue!70}0.95\\\\\n",
      "\\cellcolor{orange!48!white!70}37 & \\cellcolor{orange!18!white!70}4 & \\cellcolor{orange!46!white!70}33 & Language Source & \\cellcolor{white!94!blue!70}0.94 & \\cellcolor{white!71!blue!70}0.71 & \\cellcolor{orange!13!white!70}1.13\\\\\n",
      "\\cellcolor{orange!39!white!70}20 & \\cellcolor{orange!33!white!70}12 & \\cellcolor{orange!39!white!70}19 & Named Interpretive Rule & \\cellcolor{white!74!blue!70}0.74 & \\cellcolor{gray!50!white!70}3.10 & \\cellcolor{white!95!blue!70}0.95\\\\\n",
      "\\cellcolor{orange!52!white!70}50 & \\cellcolor{orange!33!white!70}12 & \\cellcolor{orange!55!white!70}65 & Example Use & \\cellcolor{white!82!blue!70}0.82 & \\cellcolor{gray!50!white!70}-9999.00 & \\cellcolor{orange!43!white!70}1.43\\\\\n",
      "\\cellcolor{orange!60!white!70}92 & \\cellcolor{orange!29!white!70}9 & \\cellcolor{orange!60!white!70}95 & Appeal to Meaning & \\cellcolor{white!89!blue!70}0.89 & \\cellcolor{white!61!blue!70}0.61 & \\cellcolor{orange!23!white!70}1.23\\\\\n"
     ]
    }
   ],
   "source": [
    "for k in categories.ORDERED_CATEGORIES:\n",
    "    conc_ratio = -1000\n",
    "    maj_ratio = (maj_cat_freqs[k][\"count\"] / maj_tok) / (op_cat_freqs[k][\"count\"] / op_tok)\n",
    "    if k in conc_cat_freqs.keys():\n",
    "        conc_ratio = (conc_cat_freqs[k][\"count\"] / conc_tok) / (op_cat_freqs[k][\"count\"] / op_tok)\n",
    "        conc_k = conc_cat_freqs[k]['count']\n",
    "    else:\n",
    "        conc_ratio = -9999\n",
    "        conc_count = 0\n",
    "    diss_ratio = (diss_cat_freqs[k][\"count\"] / diss_tok) / (op_cat_freqs[k][\"count\"] / op_tok)\n",
    "    maj_ratio = get_cell_color(maj_ratio)\n",
    "    conc_ratio = get_cell_color(conc_ratio)\n",
    "    diss_ratio = get_cell_color(diss_ratio)\n",
    "    print(f\"{get_count_color(maj_cat_freqs[k]['count'])} & {get_count_color(conc_k)} & {get_count_color(diss_cat_freqs[k]['count'])} & {k} & {maj_ratio} & {conc_ratio} & {diss_ratio}\\\\\\\\\")"
   ]
  },
  {
   "cell_type": "code",
   "execution_count": null,
   "metadata": {},
   "outputs": [
    {
     "name": "stdout",
     "output_type": "stream",
     "text": [
      "Focal Term & \\cellcolor{white!58!blue!70}0.58 & \\cellcolor{white!47!blue!70}0.47 & \\cellcolor{orange!72!white!70}1.72 & \\cellcolor{orange!37!white!70}1.37\\\\\n",
      "Definition & \\cellcolor{white!55!blue!70}0.55 & \\cellcolor{white!43!blue!70}0.43 & \\cellcolor{orange!77!white!70}1.77 & \\cellcolor{orange!39!white!70}1.39\\\\\n",
      "Metalinguistic Cue & \\cellcolor{orange!12!white!70}1.12 & \\cellcolor{white!89!blue!70}0.89 & \\cellcolor{orange!61!white!70}1.61 & \\cellcolor{orange!29!white!70}1.29\\\\\n",
      "Direct Quote & \\cellcolor{orange!11!white!70}1.11 & \\cellcolor{orange!1!white!70}1.01 & \\cellcolor{orange!22!white!70}1.22 & \\cellcolor{orange!12!white!70}1.12\\\\\n",
      "Legal Source & \\cellcolor{orange!13!white!70}1.13 & \\cellcolor{orange!15!white!70}1.15 & \\cellcolor{white!94!blue!70}0.94 & \\cellcolor{white!95!blue!70}0.95\\\\\n",
      "Language Source & \\cellcolor{white!76!blue!70}0.76 & \\cellcolor{white!71!blue!70}0.71 & \\cellcolor{orange!20!white!70}1.2 & \\cellcolor{orange!13!white!70}1.13\\\\\n",
      "Named Interpretive Rule & \\cellcolor{gray!50!white!70}4.19 & \\cellcolor{gray!50!white!70}3.1 & \\cellcolor{orange!28!white!70}1.28 & \\cellcolor{white!95!blue!70}0.95\\\\\n",
      "Example Use & \\cellcolor{gray!50!white!70}-9999 & \\cellcolor{gray!50!white!70}-9999 & \\cellcolor{orange!75!white!70}1.75 & \\cellcolor{orange!43!white!70}1.43\\\\\n",
      "Appeal to Meaning & \\cellcolor{white!68!blue!70}0.68 & \\cellcolor{white!61!blue!70}0.61 & \\cellcolor{orange!39!white!70}1.39 & \\cellcolor{orange!23!white!70}1.23\\\\\n"
     ]
    }
   ],
   "source": [
    "get_relative_frequencies(conc_cat_freqs, diss_cat_freqs, conc_tok, diss_tok)"
   ]
  },
  {
   "cell_type": "code",
   "execution_count": null,
   "metadata": {},
   "outputs": [
    {
     "name": "stdout",
     "output_type": "stream",
     "text": [
      "Dissents\n",
      "Focal Term & 1.72 & 1.37\\\\\n",
      "Definition & 1.77 & 1.39\\\\\n",
      "Metalinguistic Cue & 1.61 & 1.29\\\\\n",
      "Direct Quote & 1.22 & 1.12\\\\\n",
      "Legal Source & 0.94 & 0.95\\\\\n",
      "Language Source & 1.20 & 1.13\\\\\n",
      "Named Interpretive Rule & 1.28 & 0.95\\\\\n",
      "Example Use & 1.75 & 1.43\\\\\n",
      "Appeal to Meaning & 1.39 & 1.23\\\\\n"
     ]
    }
   ],
   "source": [
    "print(\"Dissents\")\n",
    "get_relative_frequencies(diss_cat_freqs, diss_tok)"
   ]
  },
  {
   "cell_type": "code",
   "execution_count": null,
   "metadata": {},
   "outputs": [],
   "source": [
    "get_relative_frequencies(conc_cat_freqs, conc_tok)"
   ]
  }
 ],
 "metadata": {
  "kernelspec": {
   "display_name": "curiam",
   "language": "python",
   "name": "python3"
  },
  "language_info": {
   "codemirror_mode": {
    "name": "ipython",
    "version": 3
   },
   "file_extension": ".py",
   "mimetype": "text/x-python",
   "name": "python",
   "nbconvert_exporter": "python",
   "pygments_lexer": "ipython3",
   "version": "3.11.4"
  }
 },
 "nbformat": 4,
 "nbformat_minor": 2
}
